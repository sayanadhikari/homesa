{
 "cells": [
  {
   "cell_type": "markdown",
   "metadata": {},
   "source": [
    "(work_experience)=\n",
    "\n",
    "# Work Experience\n",
    "\n",
    "### 2020 - Present\n",
    "- [Postdoctoral Fellow](https://www.mn.uio.no/fysikk/english/people/aca/sadhi/index.html) | [University of Oslo, Norway](https://www.uio.no/english/)\n",
    "  - Responsibilities:\n",
    "    - Presently a part of the 4DSpace team at the University of Oslo to simulate Langmuir probe behavior in the space plasma environment.\n",
    "    - Engaged in studying of plasma turbulence in the cusp ionosphere.\n",
    "    - Performing analysis of multi-scale physics from experimental, theoretical and numerical point of view in 4DSpace project.\n",
    "\n",
    "### 2018 - 2020\n",
    "- [Postdoctoral Fellow](http://www.cppipr.res.in/tsl.html) | [Institute For Plasma Research, India](http://www.ipr.res.in/)\n",
    "  - Responsibilities:\n",
    "    - Performed numerical investigation and analysis of sheath in communication blackout of space vehicle re-entry.\n",
    "    - Taught Computational Physics course to the doctoral students as a part of the Pre-PhD training. ■ Assisted faculty researchers and Ph.D. students in planning and designing research problems.\n",
    "    - Presented project results to internal and external bodies.\n",
    "    - Published academic manuscript in peer-reviewed journals.\n",
    "    - Acted as a collaborator for Dusty Plasma Laboratory and Inertial Electrostatic Confinement Fusion (IECF) Laboratory.\n",
    "### 2014 - 2017\n",
    "- [Senior Research Fellow](http://www.cppipr.res.in/tsl.html) | [Institute For Plasma Research, India](http://www.ipr.res.in/)\n",
    "  - Responsibilities:\n",
    "    - Completed a project on Numerical simulation of Plasma phenomena in sheath region and published several peer-reviewed articles.\n",
    "### 2014 - 2017\n",
    "- [Junior Research Fellow](http://www.cppipr.res.in/tsl.html) | [Institute For Plasma Research, India](http://www.ipr.res.in/)\n",
    "  - Responsibilities:\n",
    "    - Developed a Particle in Cell (PIC) simulation model for a plasma system to study magnetized plasma surface interaction.\n",
    "\n",
    "<!-- ```{figure} /_static/lecture_specific/about_py/python_vs_matlab.png\n",
    ":scale: 72%\n",
    "``` -->"
   ]
  }
 ],
 "metadata": {
  "jupytext": {
   "text_representation": {
    "extension": ".md",
    "format_name": "myst"
   }
  },
  "kernelspec": {
   "display_name": "Python 3",
   "language": "python",
   "name": "python3"
  },
  "language_info": {
   "codemirror_mode": {
    "name": "ipython",
    "version": 3
   },
   "file_extension": ".py",
   "mimetype": "text/x-python",
   "name": "python",
   "nbconvert_exporter": "python",
   "pygments_lexer": "ipython3",
   "version": "3.8.5"
  },
  "source_map": [
   10
  ]
 },
 "nbformat": 4,
 "nbformat_minor": 4
}