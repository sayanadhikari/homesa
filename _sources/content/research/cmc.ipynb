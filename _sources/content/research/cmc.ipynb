{
 "cells": [
  {
   "cell_type": "raw",
   "metadata": {},
   "source": [
    "---\n",
    "jupytext:\n",
    "  text_representation:\n",
    "    extension: .md\n",
    "    format_name: myst\n",
    "    format_version: '0.10'\n",
    "    jupytext_version: 1.5.2\n",
    "kernelspec:\n",
    "  display_name: Python 3\n",
    "  language: python\n",
    "  name: python3\n",
    "---"
   ]
  },
  {
   "cell_type": "markdown",
   "metadata": {},
   "source": [
    "# Turbulent Combustion\n",
    "\n",
    "For my PhD\n",
    "thesis, and subsequent year as Post Doc at the University of Sydney, Australia,  \n",
    "I worked mostly with the [Conditional Moment Closure](http://www.sciencedirect.com/science/article/pii/S0360128599000064) (CMC), a\n",
    "state-of-the-art model that is used to capture turbulence-chemistry\n",
    "interactions (e.g., {cite}`mortensen_ces,mortensen_ctm`. From 2005-2006 I had the great honour of working with Prof. Robert W. Bilger as a Post Doctoral research fellow at the University of Sydney,\n",
    "Australia. In Sydney I worked on CMC for spray combustion {cite}`Mortensen_Bilger` and a\n",
    "version of my consistent turbulent mixer model\n",
    "{cite}`mortensen_pof` that I have called the\n",
    "presumed mapping function approach {cite}`Mortensen2006,ahmad_2014`. The\n",
    "presumed mapping functions have been implemented in the open source package\n",
    "[PMFpack](http://launchpad.net/pmfpack), available under a GNU Lesser General Public License.\n",
    " My work on CMC led to several papers in collaboration with [Prof. Steve de Bruyn\n",
    "Kops](https://mie.umass.edu/faculty/stephen-de-bruyn-kops), using very large Direct Numerical Simulations to validate\n",
    "turbulence-chemistry models {cite}`de2005conditional,cha2006direct,mortensen2007direct`. \n",
    "\n",
    "## References\n",
    "\n",
    "```{bibliography} ../../references.bib\n",
    ":filter: docname in docnames\n",
    "```"
   ]
  }
 ],
 "metadata": {
  "jupytext": {
   "cell_metadata_filter": "-all",
   "main_language": "python",
   "notebook_metadata_filter": "-all"
  },
  "language_info": {
   "file_extension": ".py",
   "mimetype": "text/x-python",
   "name": "python",
   "nbconvert_exporter": "python",
   "pygments_lexer": "ipython3",
   "version": "3.8.5"
  }
 },
 "nbformat": 4,
 "nbformat_minor": 2
}
