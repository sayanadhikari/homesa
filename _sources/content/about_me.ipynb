{
 "cells": [
  {
   "cell_type": "markdown",
   "metadata": {},
   "source": [
    "(about_me)=\n",
    "\n",
    "# About Me\n",
    "\n",
    ">\\\"One, remember to look up at the stars and not down at your feet. Two, never give up work. Work gives you meaning and purpose and life is empty without it. Three, if you are lucky enough to find love, remember it is there and don't throw it away.\\\" -- Stephen Hawking\n",
    "\n",
    "## Short Bio\n",
    "\n",
    "Dr. Sayan Adhikari received his Ph.D. in Plasma Physics from [Gauhati University](http://gauhati.ac.in/), India in 2019. He spent almost five years developing numerical codes to analyze [magnetized plasma sheath](https://www.researchgate.net/project/Magnetized-Plasma-Sheath). Then he spent two years as a Postdoctoral Fellow at [Centre of Plasma Physics](http://www.cppipr.res.in/), a centre of [Institute for Plasma Research](http://www.ipr.res.in/) working on numerical investigation and analysis of sheath in [communication blackout of space vehicle re-entry](https://www.spaceacademy.net.au/spacelink/blackout.htm). In 2020, he joined [Plasma and space physics](https://www.mn.uio.no/fysikk/english/research/groups/plasma/index.html) group as a Postdoctoral Fellow in [Department of Physics](https://www.mn.uio.no/fysikk/english/), [University of Oslo](https://www.uio.no/english/), Norway. At [University of Oslo](https://www.uio.no/english/), he is a part of the [4DSpace strategic research initiative](https://www.mn.uio.no/fysikk/english/research/projects/4dspace/), where the group is invested in studying plasma interaction with spacecraft bodies and Langmuir probes in the polar ionosphere."
   ]
  }
 ],
 "metadata": {
  "jupytext": {
   "text_representation": {
    "extension": ".md",
    "format_name": "myst"
   }
  },
  "kernelspec": {
   "display_name": "Python 3",
   "language": "python",
   "name": "python3"
  },
  "language_info": {
   "codemirror_mode": {
    "name": "ipython",
    "version": 3
   },
   "file_extension": ".py",
   "mimetype": "text/x-python",
   "name": "python",
   "nbconvert_exporter": "python",
   "pygments_lexer": "ipython3",
   "version": "3.8.5"
  },
  "source_map": [
   10
  ]
 },
 "nbformat": 4,
 "nbformat_minor": 4
}