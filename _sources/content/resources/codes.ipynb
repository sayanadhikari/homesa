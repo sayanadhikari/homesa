{
 "cells": [
  {
   "cell_type": "raw",
   "metadata": {},
   "source": [
    "---\n",
    "jupytext:\n",
    "  text_representation:\n",
    "    extension: .md\n",
    "    format_name: myst\n",
    "    format_version: '0.10'\n",
    "    jupytext_version: 1.5.2\n",
    "kernelspec:\n",
    "  display_name: Python 3\n",
    "  language: python\n",
    "  name: python3\n",
    "---"
   ]
  },
  {
   "cell_type": "markdown",
   "metadata": {},
   "source": [
    "# Codes\n",
    "\n",
    "Here is a collection of links to more or less interesting codes for scientific computing.\n",
    "\n",
    "## My codes \n",
    "\n",
    "- [shenfun](https://shenfun.readthedocs.io/en/latest/)\n",
    "- [mpi4py-fft](https://mpi4py-fft.readthedocs.io/en/latest/)\n",
    "- [spectralDNS](https://github.com/spectralDNS/spectralDNS)\n",
    "- [Oasis](https://github.com/mikaem/Oasis)\n",
    "- [fenicstools](https://github.com/mikaem/fenicstools)\n",
    "\n",
    "## Other useful codes\n",
    "\n",
    "- [FEniCS](https://www.fenicsproject.org) - Finite element software\n",
    "- [mpi4py](https://bitbucket.org/mpi4py/mpi4py) - MPI for Python\n",
    "- [Nek5000](https://nek5000.mcs.anl.gov) - Spectral element Navier-Stokes and similar\n",
    "- [FFTW](http://www.fftw.org) - Fastest Fourier transforms in the West.\n",
    "- [HDF5](https://www.hdfgroup.org) - Binary data storage\n",
    "- [OpenFOAM](https://openfoam.org) - Open source CFD (computational fluid dynamics) software.\n",
    "- [ParaView](https://www.paraview.org) - Visualization toolkit.\n",
    "- [Semtex](http://users.monash.edu.au/~bburn/semtex.html)\n",
    "- [PETSc](https://www.mcs.anl.gov/petsc/) - Portable, Extensible Toolkit for Scientific Computation\n",
    "- [SciPy](https://www.scipy.org) - Scientific computing in Python.\n",
    "- [NumPy](https://numpy.org/) - Scientific computing in Python.\n",
    "- [Sympy](https://sympy.org) - Python library for symbolic mathematics.\n",
    "- [Numba](https://numba.pydata.org) - Makes Python code faster\n",
    "- [Cython](https://cython.org) - Python with the speed of C, often used to improve perfomance of Python programs\n",
    "- [deal.II](https://dealii.org) - Finite element library.\n",
    "- [Julia](https://julialang.org) - Programming language for scientific computing\n",
    "- [Firedrake](https://www.firedrakeproject.org) - Automated system for the solution of PDEs using the finite element method.\n",
    "- [Gmsh](http://gmsh.info) - Three-dimensional finite element mesh generator with pre- and post-processing facilities.\n",
    "- [pygmsh](https://github.com/nschloe/pygmsh) - Python interface for Gmsh.\n",
    "- [meshio](https://github.com/nschloe/meshio) - I/O for various mesh formats, file conversion.\n",
    "- [quadpy](https://github.com/nschloe/quadpy) - Numerical integration (quadrature, cubature) in Python.\n",
    "- [CGAL](https://www.cgal.org) - Algorithms for computational geometry.\n",
    "- [XDMF](http://www.xdmf.org/index.php/Main_Page) - eXtensible Data Model and Format to exchange scientific data between High Performance Computing codes and tools.\n",
    "- [SuperLU](https://portal.nersc.gov/project/sparse/superlu/) - Direct solution of large, sparse, nonsymmetric systems of linear equations.\n",
    "- [PyAMG](https://pyamg.github.io) - Algebraic Multigrid Solvers in Python.\n",
    "- [hypre](https://computing.llnl.gov/projects/hypre-scalable-linear-solvers-multigrid-methods) - Library of high-performance preconditioners and solvers.\n",
    "- [GSL](https://www.gnu.org/software/gsl/) - Wide range of mathematical routines such as random number generators, special functions, and least-squares fitting.\n",
    "- [SLEPc](http://slepc.upv.es) - Scalable Library for Eigenvalue Problem Computations.\n",
    "- [Chebfun](https://www.chebfun.org/) - Computing with functions to about 15-digit accuracy."
   ]
  }
 ],
 "metadata": {
  "jupytext": {
   "cell_metadata_filter": "-all",
   "main_language": "python",
   "notebook_metadata_filter": "-all"
  },
  "language_info": {
   "file_extension": ".py",
   "mimetype": "text/x-python",
   "name": "python",
   "nbconvert_exporter": "python",
   "pygments_lexer": "ipython3",
   "version": "3.8.5"
  }
 },
 "nbformat": 4,
 "nbformat_minor": 2
}
