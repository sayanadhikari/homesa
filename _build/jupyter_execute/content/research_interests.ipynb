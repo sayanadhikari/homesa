{
 "cells": [
  {
   "cell_type": "markdown",
   "metadata": {},
   "source": [
    "(research_interests)=\n",
    "\n",
    "# Research Interests\n",
    "\n",
    "## Primary Research\n",
    "* Plasma interaction with spacecraft bodies and Langmuir probes in the polar ionosphere.\n",
    "* Ion dynamics and sheath structure in Inertial Electrostatic Confinement Fusion machines.\n",
    "* Magnetized Plasma Sheaths.  \n",
    "* Dust charging in laboratory and astrophysical plasmas.\n",
    "## Numerical Tools/Codes\n",
    "- Kinetic\n",
    "  - [XOOPIC (X11-based Object Oriented Particle in Cell code), Michigan State University, USA](https://ptsg.egr.msu.edu/).\n",
    "  - [PINC (Particle-In-Cell code)](https://github.com/pincproject/PINC), University of Oslo, Norway.\n",
    "  - [PICSP (Particle-in-Cell Simulation of Plasma)](https://github.com/sayanadhikari/picsp), Centre of Plasma Physics, Institute for Plasma Research, India.\n",
    "  - [Gkeyll Vlasov-Maxwell code](https://gkeyll.readthedocs.io/en/latest/index.html), Princeton Plasma Physics Laboratory (PPPL), USA.\n",
    "- Fluid\n",
    "  - [IDFM - (Ion Dynamics using Fluid Modeling)](https://github.com/sayanadhikari/ion-dynamics-mag), Centre of Plasma Physics, Institute for Plasma Research, India.\n",
    "\n",
    "Apart from above, I am also a Python enthusiast and I try to use this language to develop visualization toolkits and basic machine learning models.\n",
    "\n",
    "<!-- ```{figure} /_static/lecture_specific/about_py/python_vs_matlab.png\n",
    ":scale: 72%\n",
    "``` -->"
   ]
  }
 ],
 "metadata": {
  "jupytext": {
   "text_representation": {
    "extension": ".md",
    "format_name": "myst"
   }
  },
  "kernelspec": {
   "display_name": "Python 3",
   "language": "python",
   "name": "python3"
  },
  "language_info": {
   "codemirror_mode": {
    "name": "ipython",
    "version": 3
   },
   "file_extension": ".py",
   "mimetype": "text/x-python",
   "name": "python",
   "nbconvert_exporter": "python",
   "pygments_lexer": "ipython3",
   "version": "3.8.5"
  },
  "source_map": [
   10
  ]
 },
 "nbformat": 4,
 "nbformat_minor": 4
}