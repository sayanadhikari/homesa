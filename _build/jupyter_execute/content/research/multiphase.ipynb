{
 "cells": [
  {
   "cell_type": "raw",
   "metadata": {},
   "source": [
    "---\n",
    "jupytext:\n",
    "  text_representation:\n",
    "    extension: .md\n",
    "    format_name: myst\n",
    "    format_version: '0.10'\n",
    "    jupytext_version: 1.5.2\n",
    "kernelspec:\n",
    "  display_name: Python 3\n",
    "  language: python\n",
    "  name: python3\n",
    "---"
   ]
  },
  {
   "cell_type": "markdown",
   "metadata": {},
   "source": [
    "# Multiphase\n",
    "\n",
    "+++\n",
    "\n",
    "```{sidebar} Annulus flow\n",
    "\n",
    "![](../images/annulus_image_large.jpeg)\n",
    "\n",
    "**Annulus flow** in an experimental configuration at IFE. Note the inner concentric pipe.\n",
    "```\n",
    "\n",
    "+++\n",
    "\n",
    "I have supervised two PhD-students, Tormod Landet and Christopher Friedemann,\n",
    "that were working on two widely different aspects of two-phase flows.\n",
    "\n",
    "Christopher is involved in the [Annulus flow](https://prosjektbanken.forskningsradet.no/#/project/NFR/255481/Sprak=en) project headed by [IFE](https://www.ife.no) and in collaboration with\n",
    "Imperial College London. The project is sponsored by the Norwegian Research\n",
    "Council. We use OpenFOAM to simulate and understand two-phase flows in annulus\n",
    "configurations {cite}`chris2017,friedemann_2019`, i.e., flow between an inner and outer pipe. \n",
    "\n",
    "In Tormod's project we are investigating finite element methods for use with two-phase flows. We\n",
    "are looking into slope limiting of the velocity field in a discontinuous\n",
    "Galerkin and divergence free setting. {cite}`tormod_fenics_2017,landet2020` \n",
    "\n",
    "## References\n",
    "\n",
    "```{bibliography} ../../references.bib\n",
    ":filter: docname in docnames\n",
    "```\n",
    "\n",
    "```{code-cell} ipython3\n",
    "\n",
    "```"
   ]
  }
 ],
 "metadata": {
  "jupytext": {
   "cell_metadata_filter": "-all",
   "main_language": "python",
   "notebook_metadata_filter": "-all"
  },
  "language_info": {
   "file_extension": ".py",
   "mimetype": "text/x-python",
   "name": "python",
   "nbconvert_exporter": "python",
   "pygments_lexer": "ipython3",
   "version": "3.8.5"
  }
 },
 "nbformat": 4,
 "nbformat_minor": 2
}